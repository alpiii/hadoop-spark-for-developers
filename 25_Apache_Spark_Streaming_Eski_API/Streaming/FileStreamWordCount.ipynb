{
 "cells": [
  {
   "cell_type": "code",
   "execution_count": 1,
   "metadata": {},
   "outputs": [],
   "source": [
    "import findspark\n",
    "findspark.init()"
   ]
  },
  {
   "cell_type": "code",
   "execution_count": 2,
   "metadata": {},
   "outputs": [],
   "source": [
    "from pyspark.streaming import *\n",
    "from pyspark import SparkConf, SparkContext"
   ]
  },
  {
   "cell_type": "code",
   "execution_count": 35,
   "metadata": {},
   "outputs": [],
   "source": [
    "sc = SparkContext(appName=\"WindowsOps\", master=\"local[4]\")"
   ]
  },
  {
   "cell_type": "code",
   "execution_count": 36,
   "metadata": {},
   "outputs": [],
   "source": [
    "ssc = StreamingContext(sc, 5)"
   ]
  },
  {
   "cell_type": "code",
   "execution_count": 37,
   "metadata": {},
   "outputs": [],
   "source": [
    "lines = ssc.textFileStream(\"D:\\\\spark-streaming-test\")"
   ]
  },
  {
   "cell_type": "code",
   "execution_count": 38,
   "metadata": {},
   "outputs": [],
   "source": [
    "ssc.checkpoint(\"D:\\\\checkpoint\")"
   ]
  },
  {
   "cell_type": "code",
   "execution_count": 39,
   "metadata": {},
   "outputs": [],
   "source": [
    "words = lines.flatMap(lambda x: x.split(\" \"))"
   ]
  },
  {
   "cell_type": "code",
   "execution_count": 40,
   "metadata": {},
   "outputs": [],
   "source": [
    "mapped_words = words.map(lambda x: (x,1))"
   ]
  },
  {
   "cell_type": "markdown",
   "metadata": {},
   "source": [
    "# Window Ops"
   ]
  },
  {
   "cell_type": "code",
   "execution_count": 41,
   "metadata": {},
   "outputs": [],
   "source": [
    "# window = mapped_words.window(windowDuration=30, slideDuration=10)"
   ]
  },
  {
   "cell_type": "markdown",
   "metadata": {},
   "source": [
    "# countByWindow"
   ]
  },
  {
   "cell_type": "code",
   "execution_count": 42,
   "metadata": {},
   "outputs": [],
   "source": [
    "# countByWindow = mapped_words.countByWindow(windowDuration=30, slideDuration=10)"
   ]
  },
  {
   "cell_type": "markdown",
   "metadata": {},
   "source": [
    "# reduceByKeyAndWindow"
   ]
  },
  {
   "cell_type": "code",
   "execution_count": 43,
   "metadata": {},
   "outputs": [],
   "source": [
    "reduceByKeyAndWindow = mapped_words.reduceByKeyAndWindow(lambda x,y: (int(x) + int(y)), \\\n",
    "                                                         lambda x,y: (int(x)- int(y)), \\\n",
    "                                                         windowDuration=30, slideDuration=10) \\\n",
    ".map(lambda x: (x[1], x[0])) \\\n",
    ".transform(lambda x: x.sortByKey(False))"
   ]
  },
  {
   "cell_type": "markdown",
   "metadata": {},
   "source": [
    "# Yazdır"
   ]
  },
  {
   "cell_type": "code",
   "execution_count": 44,
   "metadata": {},
   "outputs": [],
   "source": [
    "reduceByKeyAndWindow.pprint()"
   ]
  },
  {
   "cell_type": "markdown",
   "metadata": {},
   "source": [
    "# Start"
   ]
  },
  {
   "cell_type": "code",
   "execution_count": 45,
   "metadata": {},
   "outputs": [
    {
     "name": "stdout",
     "output_type": "stream",
     "text": [
      "-------------------------------------------\n",
      "Time: 2019-03-04 12:37:00\n",
      "-------------------------------------------\n",
      "\n",
      "-------------------------------------------\n",
      "Time: 2019-03-04 12:37:10\n",
      "-------------------------------------------\n",
      "\n",
      "-------------------------------------------\n",
      "Time: 2019-03-04 12:37:20\n",
      "-------------------------------------------\n",
      "\n",
      "-------------------------------------------\n",
      "Time: 2019-03-04 12:37:30\n",
      "-------------------------------------------\n",
      "\n",
      "-------------------------------------------\n",
      "Time: 2019-03-04 12:37:40\n",
      "-------------------------------------------\n",
      "\n",
      "-------------------------------------------\n",
      "Time: 2019-03-04 12:37:50\n",
      "-------------------------------------------\n",
      "\n",
      "-------------------------------------------\n",
      "Time: 2019-03-04 12:38:00\n",
      "-------------------------------------------\n",
      "\n"
     ]
    }
   ],
   "source": [
    "ssc.start()"
   ]
  },
  {
   "cell_type": "code",
   "execution_count": 46,
   "metadata": {},
   "outputs": [
    {
     "name": "stdout",
     "output_type": "stream",
     "text": [
      "-------------------------------------------\n",
      "Time: 2019-03-04 12:38:10\n",
      "-------------------------------------------\n",
      "(99, 'bir')\n",
      "(93, '–')\n",
      "(90, '')\n",
      "(72, 'Forsa-')\n",
      "(24, 'yıl')\n",
      "(18, 'diye')\n",
      "(15, 'dedi.')\n",
      "(15, 'onun')\n",
      "(15, 'doğru')\n",
      "(15, 'Kırk')\n",
      "...\n",
      "\n",
      "-------------------------------------------\n",
      "Time: 2019-03-04 12:38:20\n",
      "-------------------------------------------\n",
      "(99, 'bir')\n",
      "(93, '–')\n",
      "(90, '')\n",
      "(72, 'Forsa-')\n",
      "(24, 'yıl')\n",
      "(18, 'diye')\n",
      "(15, 'dedi.')\n",
      "(15, 'onun')\n",
      "(15, 'doğru')\n",
      "(15, 'Kırk')\n",
      "...\n",
      "\n",
      "-------------------------------------------\n",
      "Time: 2019-03-04 12:38:30\n",
      "-------------------------------------------\n",
      "(99, 'bir')\n",
      "(93, '–')\n",
      "(90, '')\n",
      "(72, 'Forsa-')\n",
      "(24, 'yıl')\n",
      "(18, 'diye')\n",
      "(15, 'dedi.')\n",
      "(15, 'onun')\n",
      "(15, 'doğru')\n",
      "(15, 'Kırk')\n",
      "...\n",
      "\n",
      "-------------------------------------------\n",
      "Time: 2019-03-04 12:38:40\n",
      "-------------------------------------------\n",
      "\n",
      "-------------------------------------------\n",
      "Time: 2019-03-04 12:38:50\n",
      "-------------------------------------------\n",
      "\n"
     ]
    }
   ],
   "source": [
    "ssc.stop(stopSparkContext=True, stopGraceFully=True)"
   ]
  },
  {
   "cell_type": "code",
   "execution_count": null,
   "metadata": {},
   "outputs": [],
   "source": []
  }
 ],
 "metadata": {
  "kernelspec": {
   "display_name": "Python 3",
   "language": "python",
   "name": "python3"
  },
  "language_info": {
   "codemirror_mode": {
    "name": "ipython",
    "version": 3
   },
   "file_extension": ".py",
   "mimetype": "text/x-python",
   "name": "python",
   "nbconvert_exporter": "python",
   "pygments_lexer": "ipython3",
   "version": "3.7.1"
  }
 },
 "nbformat": 4,
 "nbformat_minor": 2
}
