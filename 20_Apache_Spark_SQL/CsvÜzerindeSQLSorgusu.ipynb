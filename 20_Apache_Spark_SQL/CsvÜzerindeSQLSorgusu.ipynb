{
 "cells": [
  {
   "cell_type": "code",
   "execution_count": 1,
   "metadata": {},
   "outputs": [],
   "source": [
    "import findspark\n",
    "findspark.init()\n",
    "from pyspark.sql import SparkSession\n",
    "spark = SparkSession.builder \\\n",
    ".master(\"local[4]\") \\\n",
    ".appName(\"Csv-Üzeri-SQL\") \\\n",
    ".config(\"spark.executor.memory\",\"4g\") \\\n",
    ".config(\"spark.driver.memory\",\"2g\") \\\n",
    ".getOrCreate()"
   ]
  },
  {
   "cell_type": "code",
   "execution_count": 2,
   "metadata": {},
   "outputs": [],
   "source": [
    "retailDF = spark.read \\\n",
    ".option(\"header\",\"True\") \\\n",
    ".option(\"inferSchema\",\"True\") \\\n",
    ".option(\"sep\",\";\") \\\n",
    ".csv(\"D:\\\\Datasets\\\\OnlineRetail.csv\")"
   ]
  },
  {
   "cell_type": "code",
   "execution_count": 7,
   "metadata": {},
   "outputs": [
    {
     "data": {
      "text/plain": [
       "DataFrame[InvoiceNo: string, StockCode: string, Description: string, Quantity: int, InvoiceDate: string, UnitPrice: string, CustomerID: int, Country: string]"
      ]
     },
     "execution_count": 7,
     "metadata": {},
     "output_type": "execute_result"
    }
   ],
   "source": [
    "retailDF.cache()"
   ]
  },
  {
   "cell_type": "code",
   "execution_count": 8,
   "metadata": {},
   "outputs": [],
   "source": [
    "retailDF.createOrReplaceTempView(\"tablo\")"
   ]
  },
  {
   "cell_type": "code",
   "execution_count": 9,
   "metadata": {},
   "outputs": [
    {
     "name": "stdout",
     "output_type": "stream",
     "text": [
      "+---------------+---------+\n",
      "|        Country|UnitPrice|\n",
      "+---------------+---------+\n",
      "| United Kingdom|  94911.0|\n",
      "|           EIRE|   9423.0|\n",
      "|        Germany|   7930.0|\n",
      "|         France|   6288.0|\n",
      "|          Spain|   2927.0|\n",
      "|        Finland|   1578.0|\n",
      "|        Belgium|   1503.0|\n",
      "|         Norway|   1451.0|\n",
      "|    Switzerland|   1267.0|\n",
      "|         Sweden|    921.0|\n",
      "|         Cyprus|    890.0|\n",
      "|    Netherlands|    874.0|\n",
      "|          Italy|    823.0|\n",
      "|       Portugal|    817.0|\n",
      "|Channel Islands|    736.0|\n",
      "|        Austria|    548.0|\n",
      "|      Australia|    350.0|\n",
      "|        Denmark|    246.0|\n",
      "|          Malta|    210.0|\n",
      "|         Poland|    200.0|\n",
      "+---------------+---------+\n",
      "only showing top 20 rows\n",
      "\n"
     ]
    }
   ],
   "source": [
    "spark.sql(\"\"\"\n",
    "\n",
    "SELECT Country, SUM(UnitPrice) UnitPrice \n",
    "FROM tablo\n",
    "GROUP BY Country\n",
    "ORDER BY UnitPrice DESC\n",
    "\n",
    "\n",
    "\n",
    "\n",
    "\"\"\").show(20)"
   ]
  },
  {
   "cell_type": "code",
   "execution_count": 10,
   "metadata": {},
   "outputs": [
    {
     "name": "stdout",
     "output_type": "stream",
     "text": [
      "+---------------+---------+\n",
      "|        Country|UnitPrice|\n",
      "+---------------+---------+\n",
      "| United Kingdom|  94911.0|\n",
      "|           EIRE|   9423.0|\n",
      "|        Germany|   7930.0|\n",
      "|         France|   6288.0|\n",
      "|          Spain|   2927.0|\n",
      "|        Finland|   1578.0|\n",
      "|        Belgium|   1503.0|\n",
      "|         Norway|   1451.0|\n",
      "|    Switzerland|   1267.0|\n",
      "|         Sweden|    921.0|\n",
      "|         Cyprus|    890.0|\n",
      "|    Netherlands|    874.0|\n",
      "|          Italy|    823.0|\n",
      "|       Portugal|    817.0|\n",
      "|Channel Islands|    736.0|\n",
      "|        Austria|    548.0|\n",
      "|      Australia|    350.0|\n",
      "|        Denmark|    246.0|\n",
      "|          Malta|    210.0|\n",
      "|         Poland|    200.0|\n",
      "+---------------+---------+\n",
      "only showing top 20 rows\n",
      "\n"
     ]
    }
   ],
   "source": [
    "spark.sql(\"\"\"\n",
    "\n",
    "SELECT Country, SUM(UnitPrice) UnitPrice \n",
    "FROM tablo\n",
    "GROUP BY Country\n",
    "ORDER BY UnitPrice DESC\n",
    "\n",
    "\n",
    "\n",
    "\n",
    "\"\"\").show(20)"
   ]
  },
  {
   "cell_type": "code",
   "execution_count": null,
   "metadata": {},
   "outputs": [],
   "source": []
  }
 ],
 "metadata": {
  "kernelspec": {
   "display_name": "Python 3",
   "language": "python",
   "name": "python3"
  },
  "language_info": {
   "codemirror_mode": {
    "name": "ipython",
    "version": 3
   },
   "file_extension": ".py",
   "mimetype": "text/x-python",
   "name": "python",
   "nbconvert_exporter": "python",
   "pygments_lexer": "ipython3",
   "version": "3.6.5"
  }
 },
 "nbformat": 4,
 "nbformat_minor": 2
}
